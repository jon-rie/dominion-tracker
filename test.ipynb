{
 "cells": [
  {
   "cell_type": "code",
   "execution_count": 1,
   "id": "b1162363",
   "metadata": {},
   "outputs": [],
   "source": [
    "import dominion_tracker.parser\n",
    "import dominion_tracker.engine\n",
    "from dominion_tracker.parser import Parser, read_events\n",
    "from dominion_tracker.engine import GameEngine"
   ]
  },
  {
   "cell_type": "code",
   "execution_count": 2,
   "id": "dacfbb13",
   "metadata": {},
   "outputs": [
    {
     "name": "stdout",
     "output_type": "stream",
     "text": [
      "{'deck': {'Copper': 7, 'Estate': 3}, 'hand': {}, 'discard': {}, 'in_play': {}}\n",
      "{'deck': {'Copper': 4, 'Estate': 1}, 'hand': {'Copper': 3, 'Estate': 2}, 'discard': {}, 'in_play': {}}\n",
      "{'deck': {'Copper': 4, 'Estate': 1}, 'hand': {'Estate': 2}, 'discard': {}, 'in_play': {'Copper': 3}}\n",
      "{'deck': {'Copper': 4, 'Estate': 1}, 'hand': {'Estate': 2}, 'discard': {'Village': 1}, 'in_play': {'Copper': 3}}\n",
      "{'deck': {'Copper': 4, 'Estate': 1}, 'hand': {}, 'discard': {'Village': 1, 'Estate': 2, 'Copper': 3}, 'in_play': {}}\n",
      "{'deck': {}, 'hand': {'Copper': 4, 'Estate': 1}, 'discard': {'Village': 1, 'Estate': 2, 'Copper': 3}, 'in_play': {}}\n",
      "{'deck': {}, 'hand': {'Estate': 1}, 'discard': {'Village': 1, 'Estate': 2, 'Copper': 3}, 'in_play': {'Copper': 4}}\n",
      "{'deck': {}, 'hand': {'Estate': 1}, 'discard': {'Village': 1, 'Estate': 2, 'Copper': 3, 'Militia': 1}, 'in_play': {'Copper': 4}}\n",
      "{'deck': {}, 'hand': {}, 'discard': {'Village': 1, 'Estate': 3, 'Copper': 7, 'Militia': 1}, 'in_play': {}}\n",
      "{'deck': {'Village': 1, 'Estate': 3, 'Copper': 7, 'Militia': 1}, 'hand': {}, 'discard': {}, 'in_play': {}}\n",
      "{'deck': {'Village': 1, 'Estate': 2, 'Copper': 4}, 'hand': {'Copper': 3, 'Estate': 1, 'Militia': 1}, 'discard': {}, 'in_play': {}}\n",
      "{'deck': {'Village': 1, 'Estate': 2, 'Copper': 4}, 'hand': {'Copper': 3, 'Estate': 1}, 'discard': {}, 'in_play': {'Militia': 1}}\n",
      "{'deck': {'Village': 1, 'Estate': 2, 'Copper': 4}, 'hand': {'Estate': 1}, 'discard': {}, 'in_play': {'Militia': 1, 'Copper': 3}}\n",
      "{'deck': {'Village': 1, 'Estate': 2, 'Copper': 4}, 'hand': {'Estate': 1}, 'discard': {'Laboratory': 1}, 'in_play': {'Militia': 1, 'Copper': 3}}\n",
      "{'deck': {'Village': 1, 'Estate': 2, 'Copper': 4}, 'hand': {}, 'discard': {'Laboratory': 1, 'Estate': 1, 'Militia': 1, 'Copper': 3}, 'in_play': {}}\n",
      "{'deck': {'Estate': 1, 'Copper': 1}, 'hand': {'Copper': 3, 'Estate': 1, 'Village': 1}, 'discard': {'Laboratory': 1, 'Estate': 1, 'Militia': 1, 'Copper': 3}, 'in_play': {}}\n",
      "{'deck': {'Estate': 1, 'Copper': 1}, 'hand': {'Copper': 2, 'Village': 1}, 'discard': {'Laboratory': 1, 'Estate': 2, 'Militia': 1, 'Copper': 4}, 'in_play': {}}\n",
      "{'deck': {'Estate': 1, 'Copper': 1}, 'hand': {'Copper': 2}, 'discard': {'Laboratory': 1, 'Estate': 2, 'Militia': 1, 'Copper': 4}, 'in_play': {'Village': 1}}\n",
      "{'deck': {'Estate': 1}, 'hand': {'Copper': 3}, 'discard': {'Laboratory': 1, 'Estate': 2, 'Militia': 1, 'Copper': 4}, 'in_play': {'Village': 1}}\n",
      "{'deck': {'Estate': 1}, 'hand': {}, 'discard': {'Laboratory': 1, 'Estate': 2, 'Militia': 1, 'Copper': 4}, 'in_play': {'Village': 1, 'Copper': 3}}\n",
      "{'deck': {'Estate': 1}, 'hand': {}, 'discard': {'Laboratory': 1, 'Estate': 2, 'Militia': 1, 'Copper': 4, 'Village': 1}, 'in_play': {'Village': 1, 'Copper': 3}}\n",
      "{'deck': {'Estate': 1}, 'hand': {}, 'discard': {'Laboratory': 1, 'Estate': 2, 'Militia': 1, 'Copper': 7, 'Village': 2}, 'in_play': {}}\n",
      "{'deck': {'Estate': 3, 'Laboratory': 1, 'Militia': 1, 'Copper': 7, 'Village': 2}, 'hand': {}, 'discard': {}, 'in_play': {}}\n",
      "{'deck': {'Estate': 2, 'Militia': 1, 'Copper': 6}, 'hand': {'Copper': 1, 'Estate': 1, 'Laboratory': 1, 'Village': 2}, 'discard': {}, 'in_play': {}}\n"
     ]
    }
   ],
   "source": [
    "parser = Parser(player_id=\"O\")  # parse player O's actions only\n",
    "\n",
    "engine = GameEngine()\n",
    "engine.summary()\n",
    "\n",
    "# Usage:\n",
    "events = read_events(\"sample_logs/game_log.txt\", player_ids=(\"O\", \"L\"))\n",
    "# Usage:\n",
    "for event_text in events:\n",
    "    #print(event_text)\n",
    "    action = parser.parse_event(event_text)\n",
    "    if action:\n",
    "        #print(action)\n",
    "        engine.apply(action)\n",
    "        print(engine.summary())\n"
   ]
  }
 ],
 "metadata": {
  "kernelspec": {
   "display_name": "venv",
   "language": "python",
   "name": "python3"
  },
  "language_info": {
   "codemirror_mode": {
    "name": "ipython",
    "version": 3
   },
   "file_extension": ".py",
   "mimetype": "text/x-python",
   "name": "python",
   "nbconvert_exporter": "python",
   "pygments_lexer": "ipython3",
   "version": "3.13.0"
  }
 },
 "nbformat": 4,
 "nbformat_minor": 5
}
